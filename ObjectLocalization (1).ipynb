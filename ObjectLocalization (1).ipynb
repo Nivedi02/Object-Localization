{
 "cells": [
  {
   "cell_type": "code",
   "execution_count": null,
   "id": "d09ceb03",
   "metadata": {},
   "outputs": [],
   "source": [
    "# install libraries/packages/modules"
   ]
  },
  {
   "cell_type": "code",
   "execution_count": null,
   "id": "35af05c7",
   "metadata": {},
   "outputs": [],
   "source": [
    "!pip install -U git+https://github.com/albumentations-team/albumentations\n",
    "!pip install timm\n",
    "!pip install --upgrade opencv-contrib-python"
   ]
  },
  {
   "cell_type": "code",
   "execution_count": null,
   "id": "f817454e",
   "metadata": {},
   "outputs": [],
   "source": [
    "# Download Dataset"
   ]
  },
  {
   "cell_type": "code",
   "execution_count": null,
   "id": "44b64a80",
   "metadata": {},
   "outputs": [],
   "source": [
    "!git clone https://github.com/parth1620/object-localization-dataset.git"
   ]
  },
  {
   "cell_type": "code",
   "execution_count": null,
   "id": "30c13e6d",
   "metadata": {},
   "outputs": [],
   "source": [
    "import pandas as pd\n",
    "import numpy as np\n",
    "import cv2\n",
    "import matplotlib.pyplot as plt\n",
    "import torch\n",
    "from tqdm.notebook import tqdm\n",
    "from sklearn.model_selection import train_test_split\n",
    "from sklearn.preprocessing import LabelEncoder"
   ]
  },
  {
   "cell_type": "code",
   "execution_count": null,
   "id": "383336b8",
   "metadata": {},
   "outputs": [],
   "source": [
    "import sys\n",
    "sys.path.append('/content/object-localization-dataset')"
   ]
  },
  {
   "cell_type": "code",
   "execution_count": null,
   "id": "b2a9cb3a",
   "metadata": {},
   "outputs": [],
   "source": [
    "# Configurations"
   ]
  },
  {
   "cell_type": "code",
   "execution_count": null,
   "id": "a0d80974",
   "metadata": {},
   "outputs": [],
   "source": [
    "csv_file=\"/content/object-localization-dataset/train.csv\"\n",
    "data_dir = \"/content/object-localization-dataset/\"\n",
    "DEVICE ='cuda'\n",
    "batch_size=16\n",
    "img_size = 140\n",
    "LR = 0.001\n",
    "EPOCHS = 40\n",
    "MODEL_NAME ='efficientnet b0 '\n",
    "NUM_COR =4"
   ]
  },
  {
   "cell_type": "code",
   "execution_count": null,
   "id": "4d211b59",
   "metadata": {},
   "outputs": [],
   "source": [
    "df=pd.read_csv(csv_file)"
   ]
  },
  {
   "cell_type": "code",
   "execution_count": null,
   "id": "5d93ced1",
   "metadata": {},
   "outputs": [],
   "source": [
    "# Understand the dataset"
   ]
  },
  {
   "cell_type": "code",
   "execution_count": null,
   "id": "5602bd25",
   "metadata": {},
   "outputs": [],
   "source": [
    "row =df.iloc[111]\n",
    "img = cv2.imread(data_dir + row.img_path)\n",
    "img = cv2.cvtColor(img, cv2.COLOR_BGR2RGB)\n",
    "pt1 = (row.xmin,row.ymin)\n",
    "pt2 = (row.xmax,row.ymax)\n",
    "bnd_box_IMG = cv2.rectangle(img,pt1,pt2,(255,0,0),2)"
   ]
  },
  {
   "cell_type": "code",
   "execution_count": null,
   "id": "2f1f20a5",
   "metadata": {},
   "outputs": [],
   "source": [
    "train_df,valid_df=train_test_split(df,test_size =0.2 , random_state =42)"
   ]
  },
  {
   "cell_type": "code",
   "execution_count": null,
   "id": "f5e89724",
   "metadata": {},
   "outputs": [],
   "source": [
    "# Augmentations"
   ]
  },
  {
   "cell_type": "code",
   "execution_count": null,
   "id": "557e5c1a",
   "metadata": {},
   "outputs": [],
   "source": [
    "import albumentations as A"
   ]
  },
  {
   "cell_type": "code",
   "execution_count": null,
   "id": "5dba380e",
   "metadata": {},
   "outputs": [],
   "source": [
    "train_augs=A.Compose([\n",
    "    A.Resize(img_size,img_size),\n",
    "    A.HorizontalFlip(p=0.5),\n",
    "    A.VerticalFlip(p=0.5),\n",
    "    A.Rotate(),\n",
    "],bbox_params=A.BboxParams(format='pascal_voc',label_fields=['class_labels']))\n",
    "val_augs=A.Compose([\n",
    "    A.Resize(img_size,img_size),\n",
    "],bbox_params=A.BboxParams(format='pascal_voc',label_fields=['class_labels']))"
   ]
  },
  {
   "cell_type": "code",
   "execution_count": null,
   "id": "e0383c93",
   "metadata": {},
   "outputs": [],
   "source": [
    "# Create Custom Dataset"
   ]
  },
  {
   "cell_type": "code",
   "execution_count": null,
   "id": "e51056f3",
   "metadata": {},
   "outputs": [],
   "source": [
    "class ObjLocDataset(torch.utils.data.Dataset):\n",
    "    def __init__(self, df, augmentations=None):\n",
    "        self.df = df\n",
    "        self.augmentations = augmentations"
   ]
  },
  {
   "cell_type": "code",
   "execution_count": null,
   "id": "df548e94",
   "metadata": {},
   "outputs": [],
   "source": [
    "def __len__(self):\n",
    "        return len(self.df)"
   ]
  },
  {
   "cell_type": "code",
   "execution_count": null,
   "id": "e814a5b4",
   "metadata": {},
   "outputs": [],
   "source": [
    "def __getitem__(self, idx):\n",
    "        row = self.df.iloc[idx]\n",
    "        xmin = row.xmin\n",
    "        ymin = row.ymin\n",
    "        xmax = row.xmax\n",
    "        ymax = row.ymax"
   ]
  },
  {
   "cell_type": "code",
   "execution_count": null,
   "id": "97360250",
   "metadata": {},
   "outputs": [],
   "source": [
    "bbox = [[xmin, ymin, xmax, ymax]]"
   ]
  },
  {
   "cell_type": "code",
   "execution_count": null,
   "id": "9d2dc70b",
   "metadata": {},
   "outputs": [],
   "source": [
    "img_path = data_dir + row.img_path\n",
    "        img = cv2.imread(img_path)\n",
    "        img = cv2.cvtColor(img, cv2.COLOR_BGR2RGB)"
   ]
  },
  {
   "cell_type": "code",
   "execution_count": null,
   "id": "34e867e7",
   "metadata": {},
   "outputs": [],
   "source": [
    "if self.augmentations:\n",
    "            data = self.augmentations(image=img, bboxes=bbox, class_labels=[None])\n",
    "            img = data['image']\n",
    "            bbox = data['bboxes'][0]"
   ]
  },
  {
   "cell_type": "code",
   "execution_count": null,
   "id": "a58a13d9",
   "metadata": {},
   "outputs": [],
   "source": [
    "img = torch.from_numpy(img).permute(2, 0, 1) / 255.0\n",
    "        bbox = torch.Tensor(bbox)"
   ]
  },
  {
   "cell_type": "code",
   "execution_count": null,
   "id": "c2625c05",
   "metadata": {},
   "outputs": [],
   "source": [
    "return img, bbox"
   ]
  },
  {
   "cell_type": "code",
   "execution_count": null,
   "id": "488287c6",
   "metadata": {},
   "outputs": [],
   "source": [
    "trainset = ObjLocDataset(train_df, train_augs)\n",
    "validset = ObjLocDataset(valid_df, val_augs)"
   ]
  },
  {
   "cell_type": "code",
   "execution_count": null,
   "id": "8afca9ad",
   "metadata": {},
   "outputs": [],
   "source": [
    "# Load dataset into batches"
   ]
  },
  {
   "cell_type": "code",
   "execution_count": null,
   "id": "f97dacad",
   "metadata": {},
   "outputs": [],
   "source": [
    "trainloader = torch.utils.data.DataLoader(trainset,batch_size=batch_size,shuffle=True)\n",
    "validloader = torch.utils.data.DataLoader(validset,batch_size=batch_size,shuffle=False)"
   ]
  },
  {
   "cell_type": "code",
   "execution_count": null,
   "id": "c073b94c",
   "metadata": {},
   "outputs": [],
   "source": [
    "# Create Model"
   ]
  },
  {
   "cell_type": "code",
   "execution_count": null,
   "id": "3e397ba2",
   "metadata": {},
   "outputs": [],
   "source": [
    "from torch import nn\n",
    "import timm"
   ]
  },
  {
   "cell_type": "code",
   "execution_count": null,
   "id": "28d51b6a",
   "metadata": {},
   "outputs": [],
   "source": [
    "class OLModel(nn.Module):\n",
    "    def __init__(self):\n",
    "        super(OLModel,self).__init__()\n",
    "        self.backbone = timm.create_model('efficientnet_b0',pretrained= True, num_classes = 4)"
   ]
  },
  {
   "cell_type": "code",
   "execution_count": null,
   "id": "5dc09fcf",
   "metadata": {},
   "outputs": [],
   "source": [
    "def forward(self,images,gt_bboxes = None):\n",
    "        bboxes = self.backbone(images)"
   ]
  },
  {
   "cell_type": "code",
   "execution_count": null,
   "id": "366dac15",
   "metadata": {},
   "outputs": [],
   "source": [
    "if gt_bboxes!= None:\n",
    "            loss=nn.MSELoss()(bboxes,gt_bboxes)\n",
    "            return bboxes,loss\n",
    "        return bboxes"
   ]
  },
  {
   "cell_type": "code",
   "execution_count": null,
   "id": "b33c80b0",
   "metadata": {},
   "outputs": [],
   "source": [
    "model = OLModel()"
   ]
  },
  {
   "cell_type": "code",
   "execution_count": null,
   "id": "57a629ed",
   "metadata": {},
   "outputs": [],
   "source": [
    "# Training Loop"
   ]
  },
  {
   "cell_type": "code",
   "execution_count": null,
   "id": "3269c866",
   "metadata": {},
   "outputs": [],
   "source": [
    "optimizer=torch.optim.Adam(model.parameters(),lr=LR)"
   ]
  },
  {
   "cell_type": "code",
   "execution_count": null,
   "id": "c79b7b4f",
   "metadata": {},
   "outputs": [],
   "source": [
    "import numpy as np"
   ]
  },
  {
   "cell_type": "code",
   "execution_count": null,
   "id": "4f369f11",
   "metadata": {},
   "outputs": [],
   "source": [
    "best_valid_loss = np.Inf"
   ]
  },
  {
   "cell_type": "code",
   "execution_count": null,
   "id": "18fcab0d",
   "metadata": {},
   "outputs": [],
   "source": [
    "for i in range(EPOCHS):\n",
    "    train_loss = train_fn(model, trainloader, optimizer)\n",
    "    valid_loss = eval_fn(model, validloader)"
   ]
  },
  {
   "cell_type": "code",
   "execution_count": null,
   "id": "d72ce8a1",
   "metadata": {},
   "outputs": [],
   "source": [
    "if valid_loss < best_valid_loss:\n",
    "        torch.save(model.state_dict(), 'best_model.pt')\n",
    "        print(\"WEIGHTS ARE SAVED\")\n",
    "        best_valid_loss = valid_loss\n",
    "    print(f\"epoch:{i+1}, train_loss:{train_loss}, val_loss:{valid_loss}\")"
   ]
  },
  {
   "cell_type": "code",
   "execution_count": null,
   "id": "00a9af9b",
   "metadata": {},
   "outputs": [],
   "source": [
    "# Inference"
   ]
  },
  {
   "cell_type": "code",
   "execution_count": null,
   "id": "6957fe72",
   "metadata": {},
   "outputs": [],
   "source": [
    "import utils"
   ]
  },
  {
   "cell_type": "code",
   "execution_count": null,
   "id": "fce58444",
   "metadata": {},
   "outputs": [],
   "source": [
    "model.load_state_dict(torch.load('best_model.pt'))\n",
    "model.eval()"
   ]
  },
  {
   "cell_type": "code",
   "execution_count": null,
   "id": "c2725c9e",
   "metadata": {},
   "outputs": [],
   "source": [
    "with torch.no_grad():\n",
    "    image, gt_bbox = valset[12]\n",
    "    image = image.unsqueeze(0)\n",
    "    out_bbox = model(image)"
   ]
  },
  {
   "cell_type": "code",
   "execution_count": null,
   "id": "f399225d",
   "metadata": {},
   "outputs": [],
   "source": [
    "utils.compare_plots(image, gt_bbox, out_bbox)"
   ]
  }
 ],
 "metadata": {
  "kernelspec": {
   "display_name": "Python 3 (ipykernel)",
   "language": "python",
   "name": "python3"
  },
  "language_info": {
   "name": ""
  }
 },
 "nbformat": 4,
 "nbformat_minor": 5
}
